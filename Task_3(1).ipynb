{
  "nbformat": 4,
  "nbformat_minor": 0,
  "metadata": {
    "colab": {
      "provenance": [],
      "authorship_tag": "ABX9TyMCiHfKQ0oDyJ5GKhV5AzKs",
      "include_colab_link": true
    },
    "kernelspec": {
      "name": "python3",
      "display_name": "Python 3"
    },
    "language_info": {
      "name": "python"
    }
  },
  "cells": [
    {
      "cell_type": "markdown",
      "metadata": {
        "id": "view-in-github",
        "colab_type": "text"
      },
      "source": [
        "<a href=\"https://colab.research.google.com/github/tirtthshah/text-to-image-pipeline/blob/main/Task_3(1).ipynb\" target=\"_parent\"><img src=\"https://colab.research.google.com/assets/colab-badge.svg\" alt=\"Open In Colab\"/></a>"
      ]
    },
    {
      "cell_type": "code",
      "execution_count": null,
      "metadata": {
        "id": "GLDjfNuIE7aN"
      },
      "outputs": [],
      "source": [
        "from google.colab import files\n",
        "uploaded = files.upload()"
      ]
    },
    {
      "cell_type": "code",
      "source": [
        "import os\n",
        "\n",
        "os.makedirs(\"/root/.kaggle\", exist_ok=True)\n",
        "os.rename(\"/content/kaggle.json\", \"/root/.kaggle/kaggle.json\")\n",
        "\n",
        "os.chmod(\"/root/.kaggle/kaggle.json\", 0o600)"
      ],
      "metadata": {
        "id": "ymQwIQfpFJt5"
      },
      "execution_count": null,
      "outputs": []
    },
    {
      "cell_type": "code",
      "source": [
        "import os\n",
        "\n",
        "if os.path.exists('/content/kaggle.json'):\n",
        "  print(\"kaggle.json found in /content\")\n",
        "else:\n",
        "  print(\"kaggle.json not found in /content\")"
      ],
      "metadata": {
        "id": "j8MQfKiVPi_d"
      },
      "execution_count": null,
      "outputs": []
    },
    {
      "cell_type": "code",
      "source": [
        "!pip install -q kaggle\n",
        "!kaggle datasets download -d masoudnickparvar/brain-tumor-mri-dataset -p /content"
      ],
      "metadata": {
        "id": "sgxGbcB2FNUZ"
      },
      "execution_count": null,
      "outputs": []
    },
    {
      "cell_type": "code",
      "source": [
        "import zipfile\n",
        "\n",
        "with zipfile.ZipFile(\"/content/brain-tumor-mri-dataset.zip\", 'r') as zip_ref:\n",
        "    zip_ref.extractall(\"/content/brain_tumor_mri\")\n",
        "\n",
        "print(\" Dataset extracted to /content/brain_tumor_mri\")"
      ],
      "metadata": {
        "id": "6w6gXgwfFXK7"
      },
      "execution_count": null,
      "outputs": []
    },
    {
      "cell_type": "code",
      "source": [
        "import os\n",
        "\n",
        "\n",
        "image_dir = \"/content/brain_tumor_mri\"\n",
        "for root, dirs, files in os.walk(image_dir):\n",
        "    for file in files[:10]:\n",
        "        print(os.path.join(root, file))"
      ],
      "metadata": {
        "id": "EbBbEJ9UFaDC"
      },
      "execution_count": null,
      "outputs": []
    },
    {
      "cell_type": "code",
      "source": [
        "from PIL import Image\n",
        "import matplotlib.pyplot as plt\n",
        "import os\n",
        "\n",
        "sample_path = os.path.join(image_dir, \"Testing/meningioma/Te-me_0016.jpg\")\n",
        "img = Image.open(sample_path)\n",
        "\n",
        "plt.imshow(img)\n",
        "plt.axis(\"off\")\n",
        "plt.title(\"Sample MRI Image\")\n",
        "plt.show()"
      ],
      "metadata": {
        "id": "5aMIXtDEFjNg"
      },
      "execution_count": null,
      "outputs": []
    },
    {
      "cell_type": "code",
      "source": [
        "import os\n",
        "import torch\n",
        "import torchvision.transforms as transforms\n",
        "from torchvision.datasets import ImageFolder\n",
        "from torch.utils.data import DataLoader\n",
        "import torch.nn as nn\n",
        "import torch.optim as optim"
      ],
      "metadata": {
        "id": "PvImVlKdGuMi"
      },
      "execution_count": null,
      "outputs": []
    },
    {
      "cell_type": "code",
      "source": [
        "\n",
        "transform = transforms.Compose([\n",
        "    transforms.Resize((128, 128)),\n",
        "    transforms.ToTensor()\n",
        "])\n",
        "\n",
        "train_path = \"/content/brain_tumor_mri/Training\"\n",
        "test_path = \"/content/brain_tumor_mri/Testing\"\n",
        "\n",
        "train_dataset = ImageFolder(train_path, transform=transform)\n",
        "test_dataset = ImageFolder(test_path, transform=transform)\n",
        "\n",
        "train_loader = DataLoader(train_dataset, batch_size=32, shuffle=True)\n",
        "test_loader = DataLoader(test_dataset, batch_size=32)"
      ],
      "metadata": {
        "id": "_T8jBmKNGzUn"
      },
      "execution_count": null,
      "outputs": []
    },
    {
      "cell_type": "code",
      "source": [
        "class TumorClassifier(nn.Module):\n",
        "    def __init__(self):\n",
        "        super(TumorClassifier, self).__init__()\n",
        "        self.conv = nn.Sequential(\n",
        "            nn.Conv2d(3, 16, 3, padding=1), nn.ReLU(), nn.MaxPool2d(2),\n",
        "            nn.Conv2d(16, 32, 3, padding=1), nn.ReLU(), nn.MaxPool2d(2)\n",
        "        )\n",
        "        self.fc = nn.Sequential(\n",
        "            nn.Flatten(),\n",
        "            nn.Linear(32 * 32 * 32, 128), nn.ReLU(),\n",
        "            nn.Linear(128, 4)\n",
        "        )\n",
        "\n",
        "    def forward(self, x):\n",
        "        x = self.conv(x)\n",
        "        x = self.fc(x)\n",
        "        return x"
      ],
      "metadata": {
        "id": "yA7lHYd-HD5Z"
      },
      "execution_count": null,
      "outputs": []
    },
    {
      "cell_type": "code",
      "source": [
        "!pip install -q tqdm"
      ],
      "metadata": {
        "id": "_4tZi94aHzAy"
      },
      "execution_count": null,
      "outputs": []
    },
    {
      "cell_type": "code",
      "source": [
        "from tqdm import tqdm\n",
        "\n",
        "for epoch in range(5):\n",
        "    model.train()\n",
        "    running_loss = 0.0\n",
        "    correct = 0\n",
        "    total = 0\n",
        "\n",
        "    loop = tqdm(train_loader, desc=f\"Epoch {epoch+1}\")\n",
        "    for images, labels in loop:\n",
        "        images, labels = images.to(device), labels.to(device)\n",
        "\n",
        "        optimizer.zero_grad()\n",
        "        outputs = model(images)\n",
        "        loss = criterion(outputs, labels)\n",
        "        loss.backward()\n",
        "        optimizer.step()\n",
        "\n",
        "        running_loss += loss.item()\n",
        "\n",
        "        _, predicted = torch.max(outputs.data, 1)\n",
        "        total += labels.size(0)\n",
        "        correct += (predicted == labels).sum().item()\n",
        "\n",
        "        loop.set_postfix(loss=loss.item())\n",
        "\n",
        "    epoch_acc = 100 * correct / total\n",
        "    print(f\" Epoch {epoch+1} — Loss: {running_loss:.4f}, Accuracy: {epoch_acc:.2f}%\")"
      ],
      "metadata": {
        "id": "UZCT63kkH06l"
      },
      "execution_count": null,
      "outputs": []
    },
    {
      "cell_type": "code",
      "source": [
        "model.eval()\n",
        "correct = 0\n",
        "total = 0\n",
        "\n",
        "with torch.no_grad():\n",
        "    for images, labels in test_loader:\n",
        "        images, labels = images.to(device), labels.to(device)\n",
        "        outputs = model(images)\n",
        "        _, predicted = torch.max(outputs.data, 1)\n",
        "        total += labels.size(0)\n",
        "        correct += (predicted == labels).sum().item()\n",
        "\n",
        "print(f\"Test Accuracy: {100 * correct / total:.2f}%\")"
      ],
      "metadata": {
        "id": "BKfFEwW4Jum1"
      },
      "execution_count": null,
      "outputs": []
    },
    {
      "cell_type": "code",
      "source": [
        "import matplotlib.pyplot as plt\n",
        "import torch\n",
        "import random\n",
        "\n",
        "classes = train_dataset.classes\n",
        "class_to_idx = train_dataset.class_to_idx\n",
        "\n",
        "def imshow(img, label, pred):\n",
        "    img = img.permute(1, 2, 0).numpy()\n",
        "    plt.imshow(img)\n",
        "    plt.title(f\"Prediction: {classes[pred]}, Reallity: {classes[label]}\")\n",
        "    plt.axis(\"off\")\n",
        "    plt.show()\n",
        "\n",
        "for chosen_class in classes:\n",
        "    print(f\"\\n Class: {chosen_class}\")\n",
        "    target_idx = class_to_idx[chosen_class]\n",
        "\n",
        "    filtered = [(img, label) for img, label in test_dataset if label == target_idx]\n",
        "    if not filtered:\n",
        "        print(\" No images found for this class.\")\n",
        "        continue\n",
        "\n",
        "    img, label = random.choice(filtered)\n",
        "    img_tensor = img.unsqueeze(0).to(device)\n",
        "\n",
        "    model.eval()\n",
        "    with torch.no_grad():\n",
        "        output = model(img_tensor)\n",
        "        _, pred = torch.max(output, 1)\n",
        "\n",
        "    imshow(img, label, pred.item())"
      ],
      "metadata": {
        "id": "BfEwpPfmLN0h"
      },
      "execution_count": null,
      "outputs": []
    },
    {
      "cell_type": "markdown",
      "source": [
        "Final Output( Prediction )"
      ],
      "metadata": {
        "id": "agM-TSgYLAAw"
      }
    },
    {
      "cell_type": "code",
      "source": [
        "from google.colab import files\n",
        "from PIL import Image\n",
        "import torch\n",
        "import torchvision.transforms as transforms\n",
        "import matplotlib.pyplot as plt\n",
        "\n",
        "transform = transforms.Compose([\n",
        "    transforms.Resize((128, 128)),\n",
        "    transforms.ToTensor()])\n",
        "\n",
        "\n",
        "uploaded = files.upload()\n",
        "for filename in uploaded.keys():\n",
        "\n",
        "    img = Image.open(filename).convert(\"RGB\")\n",
        "    img_tensor = transform(img).unsqueeze(0).to(device)\n",
        "\n",
        "    model.eval()\n",
        "    with torch.no_grad():\n",
        "        output = model(img_tensor)\n",
        "        _, pred = torch.max(output, 1)\n",
        "\n",
        "\n",
        "    plt.imshow(img)\n",
        "    plt.title(f\"Predicted Tumor Type: {train_dataset.classes[pred.item()]}\")\n",
        "    plt.axis(\"off\")\n",
        "    plt.show()"
      ],
      "metadata": {
        "id": "v9TRN8-7P9H_"
      },
      "execution_count": null,
      "outputs": []
    }
  ]
}