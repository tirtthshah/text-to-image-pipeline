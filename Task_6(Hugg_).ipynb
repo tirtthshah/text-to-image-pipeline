{
  "nbformat": 4,
  "nbformat_minor": 0,
  "metadata": {
    "colab": {
      "provenance": [],
      "gpuType": "T4",
      "authorship_tag": "ABX9TyNnTD9UOu/vib927ofkqOI9",
      "include_colab_link": true
    },
    "kernelspec": {
      "name": "python3",
      "display_name": "Python 3"
    },
    "language_info": {
      "name": "python"
    },
    "accelerator": "GPU"
  },
  "cells": [
    {
      "cell_type": "markdown",
      "metadata": {
        "id": "view-in-github",
        "colab_type": "text"
      },
      "source": [
        "<a href=\"https://colab.research.google.com/github/tirtthshah/text-to-image-pipeline/blob/main/Task_6(Hugg_).ipynb\" target=\"_parent\"><img src=\"https://colab.research.google.com/assets/colab-badge.svg\" alt=\"Open In Colab\"/></a>"
      ]
    },
    {
      "cell_type": "code",
      "source": [
        "!pip install diffusers transformers accelerate scipy"
      ],
      "metadata": {
        "id": "ejS-04lj0XL2"
      },
      "execution_count": null,
      "outputs": []
    },
    {
      "cell_type": "code",
      "source": [
        "from diffusers import StableDiffusionPipeline\n",
        "import torch\n",
        "\n",
        "pipe = StableDiffusionPipeline.from_pretrained(\"runwayml/stable-diffusion-v1-5\")\n",
        "pipe = pipe.to(\"cuda\" if torch.cuda.is_available() else \"cpu\")"
      ],
      "metadata": {
        "id": "8uwQBq3J0am-"
      },
      "execution_count": null,
      "outputs": []
    },
    {
      "cell_type": "code",
      "source": [
        "import torch\n",
        "from diffusers import StableDiffusionPipeline\n",
        "from IPython.display import display, Image\n",
        "import ipywidgets as widgets\n",
        "\n",
        "pipe = StableDiffusionPipeline.from_pretrained(\"runwayml/stable-diffusion-v1-5\")\n",
        "pipe = pipe.to(\"cuda\" if torch.cuda.is_available() else \"cpu\")\n",
        "\n",
        "shape_selector = widgets.Dropdown(\n",
        "    options=[\n",
        "        ('Circle', 'minimalist circle on white background'),\n",
        "        ('Rectangle', 'minimalist rectangle on white background'),\n",
        "        ('Square', 'minimalist square on white background'),\n",
        "        ('Triangle', 'minimalist triangle on white background')\n",
        "    ],\n",
        "    value='minimalist circle on white background',\n",
        "    description='Shape:',\n",
        "    layout=widgets.Layout(width='500px')\n",
        ")\n",
        "\n",
        "generate_button = widgets.Button(\n",
        "    description='Generate Shape',\n",
        "    button_style='success',\n",
        "    layout=widgets.Layout(width='200px')\n",
        ")\n",
        "\n",
        "output_box = widgets.Output()\n",
        "\n",
        "def generate_shape(prompt):\n",
        "    with output_box:\n",
        "        output_box.clear_output()\n",
        "        image = pipe(prompt).images[0]\n",
        "        image.save(\"generated_shape.png\")\n",
        "        display(Image(filename=\"generated_shape.png\"))\n",
        "\n",
        "def on_button_click(b):\n",
        "    generate_shape(shape_selector.value)\n",
        "\n",
        "generate_button.on_click(on_button_click)\n",
        "\n",
        "display(widgets.VBox([shape_selector, generate_button, output_box]))\n"
      ],
      "metadata": {
        "id": "ALS-7H8w84Pr"
      },
      "execution_count": null,
      "outputs": []
    }
  ]
}