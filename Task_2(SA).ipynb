{
  "cells": [
    {
      "cell_type": "markdown",
      "metadata": {
        "id": "view-in-github",
        "colab_type": "text"
      },
      "source": [
        "<a href=\"https://colab.research.google.com/github/tirtthshah/text-to-image-pipeline/blob/main/Task_2(SA).ipynb\" target=\"_parent\"><img src=\"https://colab.research.google.com/assets/colab-badge.svg\" alt=\"Open In Colab\"/></a>"
      ]
    },
    {
      "cell_type": "markdown",
      "source": [
        "Self Attention"
      ],
      "metadata": {
        "id": "dtDwm_P2NGXq"
      }
    },
    {
      "cell_type": "code",
      "source": [
        "!pip install torch torchvision matplotlib\n",
        "\n",
        "import torch\n",
        "import torch.nn as nn\n",
        "import torchvision\n",
        "import torchvision.transforms as transforms\n",
        "import matplotlib.pyplot as plt"
      ],
      "metadata": {
        "id": "XKHTzf5SIdSk"
      },
      "execution_count": null,
      "outputs": []
    },
    {
      "cell_type": "code",
      "source": [
        "class SelfAttention(nn.Module):\n",
        "    def __init__(self, in_dim):\n",
        "        super(SelfAttention, self).__init__()\n",
        "        self.query = nn.Conv2d(in_dim, in_dim // 8, 1)\n",
        "        self.key = nn.Conv2d(in_dim, in_dim // 8, 1)\n",
        "        self.value = nn.Conv2d(in_dim, in_dim, 1)\n",
        "        self.gamma = nn.Parameter(torch.zeros(1))\n",
        "\n",
        "    def forward(self, x):\n",
        "        B, C, H, W = x.size()\n",
        "        proj_query = self.query(x).view(B, -1, H * W).permute(0, 2, 1)\n",
        "        proj_key = self.key(x).view(B, -1, H * W)\n",
        "        energy = torch.bmm(proj_query, proj_key)\n",
        "        attention = torch.softmax(energy, dim=-1)\n",
        "        proj_value = self.value(x).view(B, -1, H * W)\n",
        "\n",
        "        out = torch.bmm(proj_value, attention.permute(0, 2, 1))\n",
        "        out = out.view(B, C, H, W)\n",
        "        return self.gamma * out + x\n",
        "\n",
        "class Generator(nn.Module):\n",
        "    def __init__(self, z_dim=100, img_channels=1, feature_g=64, text_features_dim=512):\n",
        "        super(Generator, self).__init__()\n",
        "        self.net = nn.Sequential(\n",
        "            nn.ConvTranspose2d(z_dim + text_features_dim, feature_g * 8, 4, 1, 0),\n",
        "            nn.BatchNorm2d(feature_g * 8),\n",
        "            nn.ReLU(True),\n",
        "\n",
        "            nn.ConvTranspose2d(feature_g * 8, feature_g * 4, 4, 2, 1),\n",
        "            nn.BatchNorm2d(feature_g * 4),\n",
        "            nn.ReLU(True),\n",
        "            SelfAttention(feature_g * 4),\n",
        "\n",
        "            nn.ConvTranspose2d(feature_g * 4, feature_g * 2, 4, 2, 1),\n",
        "            nn.BatchNorm2d(feature_g * 2),\n",
        "            nn.ReLU(True),\n",
        "\n",
        "            nn.ConvTranspose2d(feature_g * 2, img_channels, 4, 2, 1),\n",
        "            nn.Tanh()\n",
        "        )\n",
        "\n",
        "    def forward(self, x):\n",
        "        return self.net(x)"
      ],
      "metadata": {
        "id": "_kdsrDmCIfL0"
      },
      "execution_count": null,
      "outputs": []
    },
    {
      "cell_type": "code",
      "source": [
        "class Discriminator(nn.Module):\n",
        "    def __init__(self, img_channels=1, feature_d=64):\n",
        "        super(Discriminator, self).__init__()\n",
        "        self.net = nn.Sequential(\n",
        "            nn.Conv2d(img_channels, feature_d, 4, 2, 1),\n",
        "            nn.LeakyReLU(0.2, inplace=True),\n",
        "\n",
        "            nn.Conv2d(feature_d, feature_d * 2, 4, 2, 1),\n",
        "            nn.BatchNorm2d(feature_d * 2),\n",
        "            nn.LeakyReLU(0.2, inplace=True),\n",
        "            SelfAttention(feature_d * 2),\n",
        "\n",
        "            nn.Conv2d(feature_d * 2, 1, 4, 1, 0),\n",
        "            nn.Sigmoid()\n",
        "        )\n",
        "\n",
        "    def forward(self, x):\n",
        "        return self.net(x)"
      ],
      "metadata": {
        "id": "Y1ASDoT0Iken"
      },
      "execution_count": null,
      "outputs": []
    },
    {
      "cell_type": "code",
      "source": [
        "z_dim = 100\n",
        "lr = 2e-4\n",
        "batch_size = 32\n",
        "epochs = 2\n",
        "device = \"cuda\" if torch.cuda.is_available() else \"cpu\"\n",
        "text_features_dim = 512\n",
        "\n",
        "transform = transforms.Compose([\n",
        "    transforms.ToTensor(),\n",
        "    transforms.Normalize([0.5], [0.5])])\n",
        "dataset = torchvision.datasets.MNIST(root=\"./data\", train=True, transform=transform, download=True)\n",
        "loader = torch.utils.data.DataLoader(dataset, batch_size=batch_size, shuffle=True)\n",
        "\n",
        "gen = Generator(z_dim=z_dim, text_features_dim=text_features_dim).to(device)\n",
        "disc = Discriminator().to(device)\n",
        "\n",
        "opt_gen = torch.optim.Adam(gen.parameters(), lr=lr, betas=(0.5, 0.999))\n",
        "opt_disc = torch.optim.Adam(disc.parameters(), lr=lr, betas=(0.5, 0.999))\n",
        "\n",
        "criterion = nn.BCELoss()\n",
        "\n",
        "for epoch in range(epochs):\n",
        "    for real, _ in loader:\n",
        "        real = real.to(device)\n",
        "        noise = torch.randn(batch_size, z_dim, 1, 1).to(device)\n",
        "\n",
        "        dummy_text_features = torch.randn(batch_size, text_features_dim, 1, 1).to(device)\n",
        "        combined_input = torch.cat((noise, dummy_text_features), dim=1)\n",
        "\n",
        "        fake = gen(combined_input)\n",
        "\n",
        "        disc_real = disc(real).view(-1)\n",
        "        loss_real = criterion(disc_real, torch.ones_like(disc_real))\n",
        "        disc_fake = disc(fake.detach()).view(-1)\n",
        "        loss_fake = criterion(disc_fake, torch.zeros_like(disc_fake))\n",
        "        loss_disc = (loss_real + loss_fake) / 2\n",
        "        opt_disc.zero_grad()\n",
        "        loss_disc.backward()\n",
        "        opt_disc.step()\n",
        "\n",
        "        output = disc(fake).view(-1)\n",
        "        loss_gen = criterion(output, torch.ones_like(output))\n",
        "        opt_gen.zero_grad()\n",
        "        loss_gen.backward()\n",
        "        opt_gen.step()\n",
        "\n",
        "    print(f\"Epoch [{epoch+1}/{epochs}] Loss D: {loss_disc:.4f}, Loss G: {loss_gen:.4f}\")\n",
        "\n",
        "    gen.eval()\n",
        "with torch.no_grad():\n",
        "    noise = torch.randn(64, z_dim, 1, 1).to(device)\n",
        "\n",
        "    dummy_text_features = torch.randn(64, text_features_dim, 1, 1).to(device)\n",
        "    combined_input = torch.cat((noise, dummy_text_features), dim=1)\n",
        "\n",
        "    fake_images = gen(combined_input).cpu()\n",
        "    grid = torchvision.utils.make_grid(fake_images, nrow=4, normalize=True)\n",
        "    plt.figure(figsize=(5,5))\n",
        "    plt.axis(\"off\")\n",
        "    plt.show()"
      ],
      "metadata": {
        "id": "jyBEwpi9IyL0"
      },
      "execution_count": null,
      "outputs": []
    }
  ],
  "metadata": {
    "colab": {
      "provenance": [],
      "gpuType": "T4",
      "authorship_tag": "ABX9TyO779QKVFnejCaRWDiTsoGZ",
      "include_colab_link": true
    },
    "kernelspec": {
      "display_name": "Python 3",
      "name": "python3"
    },
    "language_info": {
      "name": "python"
    },
    "accelerator": "GPU"
  },
  "nbformat": 4,
  "nbformat_minor": 0
}