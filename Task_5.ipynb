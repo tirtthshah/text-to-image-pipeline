{
  "nbformat": 4,
  "nbformat_minor": 0,
  "metadata": {
    "colab": {
      "provenance": [],
      "gpuType": "T4",
      "authorship_tag": "ABX9TyMta9zb8cW5kBVJ10ZV43Uk",
      "include_colab_link": true
    },
    "kernelspec": {
      "name": "python3",
      "display_name": "Python 3"
    },
    "language_info": {
      "name": "python"
    },
    "accelerator": "GPU"
  },
  "cells": [
    {
      "cell_type": "markdown",
      "metadata": {
        "id": "view-in-github",
        "colab_type": "text"
      },
      "source": [
        "<a href=\"https://colab.research.google.com/github/tirtthshah/text-to-image-pipeline/blob/main/Task_5.ipynb\" target=\"_parent\"><img src=\"https://colab.research.google.com/assets/colab-badge.svg\" alt=\"Open In Colab\"/></a>"
      ]
    },
    {
      "cell_type": "code",
      "source": [
        "!pip install transformers accelerate torch\n",
        "!pip install --upgrade --force-reinstall transformers accelerate torch"
      ],
      "metadata": {
        "id": "LgC0ieLNMZLn"
      },
      "execution_count": null,
      "outputs": []
    },
    {
      "cell_type": "code",
      "source": [
        "!pip install torch torchvision diffusers transformers accelerate safetensors"
      ],
      "metadata": {
        "id": "Am3n43sNTZlb"
      },
      "execution_count": null,
      "outputs": []
    },
    {
      "cell_type": "code",
      "source": [
        "import os\n",
        "\n",
        "hf_token = os.environ.get(\"HF_TOKEN\")\n",
        "from huggingface_hub import login\n",
        "login(hf_token)"
      ],
      "metadata": {
        "id": "FVoBj3yqOgQ4"
      },
      "execution_count": null,
      "outputs": []
    },
    {
      "cell_type": "code",
      "source": [
        "from transformers import CLIPTokenizer, CLIPTextModel\n",
        "import torch\n",
        "\n",
        "tokenizer = CLIPTokenizer.from_pretrained(\"openai/clip-vit-base-patch32\")\n",
        "text_encoder = CLIPTextModel.from_pretrained(\"openai/clip-vit-base-patch32\")"
      ],
      "metadata": {
        "id": "B2ZhUlTtOu11"
      },
      "execution_count": null,
      "outputs": []
    },
    {
      "cell_type": "code",
      "source": [
        "text_prompt = [\"A futuristic city at sunset\"]\n",
        "\n",
        "inputs = tokenizer(text_prompt, padding=True, return_tensors=\"pt\")\n",
        "\n",
        "\n",
        "with torch.no_grad():\n",
        "    text_embeddings = text_encoder(**inputs).last_hidden_state\n",
        "print(\"Text Embeddings Shape:\", text_embeddings.shape)"
      ],
      "metadata": {
        "id": "doE6cJn6SSdL"
      },
      "execution_count": null,
      "outputs": []
    },
    {
      "cell_type": "code",
      "source": [
        "import os\n",
        "from huggingface_hub import login\n",
        "\n",
        "hf_token = os.environ.get(\"HF_TOKEN\")\n",
        "login(hf_token)"
      ],
      "metadata": {
        "id": "7PDzKGdkNitc"
      },
      "execution_count": null,
      "outputs": []
    },
    {
      "cell_type": "code",
      "source": [
        "from diffusers import StableDiffusionPipeline\n",
        "import torch\n",
        "\n",
        "model_id = \"prompthero/openjourney\"\n",
        "pipe = StableDiffusionPipeline.from_pretrained(model_id, torch_dtype=torch.float16).to(\"cuda\")"
      ],
      "metadata": {
        "id": "2mLEaH0FN0K9"
      },
      "execution_count": null,
      "outputs": []
    },
    {
      "cell_type": "code",
      "source": [
        "from transformers import AutoTokenizer, AutoModel\n",
        "\n",
        "tokenizer = AutoTokenizer.from_pretrained(\"bert-base-uncased\")\n",
        "model = AutoModel.from_pretrained(\"bert-base-uncased\")\n",
        "\n",
        "inputs = tokenizer(clean_prompt, return_tensors=\"pt\", truncation=True, padding=True)\n",
        "with torch.no_grad():\n",
        "    embeddings = model(**inputs).last_hidden_state.mean(dim=1)"
      ],
      "metadata": {
        "id": "l6Q50CXAOYdN"
      },
      "execution_count": null,
      "outputs": []
    },
    {
      "cell_type": "code",
      "source": [
        "import torch.nn as nn\n",
        "\n",
        "class Generator(nn.Module):\n",
        "    def __init__(self, embedding_dim=768, noise_dim=100, img_channels=3, feature_maps=64):\n",
        "        super(Generator, self).__init__()\n",
        "        self.fc = nn.Sequential(\n",
        "            nn.Linear(embedding_dim + noise_dim, feature_maps * 8 * 4 * 4),\n",
        "            nn.BatchNorm1d(feature_maps * 8 * 4 * 4),\n",
        "            nn.ReLU(True)\n",
        "        )\n",
        "        self.deconv = nn.Sequential(\n",
        "            nn.ConvTranspose2d(feature_maps * 8, feature_maps * 4, 4, 2, 1),\n",
        "            nn.BatchNorm2d(feature_maps * 4),\n",
        "            nn.ReLU(True),\n",
        "            nn.ConvTranspose2d(feature_maps * 4, feature_maps * 2, 4, 2, 1),\n",
        "            nn.BatchNorm2d(feature_maps * 2),\n",
        "            nn.ReLU(True),\n",
        "            nn.ConvTranspose2d(feature_maps * 2, feature_maps, 4, 2, 1),\n",
        "            nn.BatchNorm2d(feature_maps),\n",
        "            nn.ReLU(True),\n",
        "            nn.ConvTranspose2d(feature_maps, img_channels, 4, 2, 1),\n",
        "            nn.Tanh()\n",
        "        )\n",
        "\n",
        "    def forward(self, embedding, noise):\n",
        "        x = torch.cat((embedding, noise), dim=1)\n",
        "        x = self.fc(x).view(-1, 512, 4, 4)\n",
        "        return self.deconv(x)"
      ],
      "metadata": {
        "id": "fGAmx4RaOdwx"
      },
      "execution_count": null,
      "outputs": []
    },
    {
      "cell_type": "code",
      "source": [
        "noise = torch.randn(1, 100)\n",
        "gen = Generator()\n",
        "gen.eval()\n",
        "generated_image = gen(embeddings, noise)"
      ],
      "metadata": {
        "id": "jLASmsbZOfz9"
      },
      "execution_count": null,
      "outputs": []
    },
    {
      "cell_type": "code",
      "source": [
        "import re\n",
        "\n",
        "def preprocess_text(text):\n",
        "    text = text.lower()\n",
        "    text = re.sub(r'[^\\w\\s]', '', text)\n",
        "    text = re.sub(r'\\s+', ' ', text).strip()\n",
        "    return text\n",
        "\n",
        "base_prompt = input(\"Enter your thought (prompt): \")\n",
        "style = input(\"Enter desired style (e.g., portrait, sketch): \")\n",
        "prompt = f\"{style} style {base_prompt}\"\n",
        "clean_prompt = preprocess_text(prompt)\n",
        "image = pipe(prompt).images[0]\n",
        "\n",
        "import matplotlib.pyplot as plt\n",
        "plt.imshow(image)\n",
        "plt.axis(\"off\")\n",
        "plt.title(\"Generated Image\")\n",
        "plt.show()"
      ],
      "metadata": {
        "id": "rq2cB3l0OuY6"
      },
      "execution_count": null,
      "outputs": []
    }
  ]
}