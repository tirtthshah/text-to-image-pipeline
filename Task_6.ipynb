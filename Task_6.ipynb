{
  "nbformat": 4,
  "nbformat_minor": 0,
  "metadata": {
    "colab": {
      "provenance": [],
      "authorship_tag": "ABX9TyMKfgvp0tImxGbMwCdc2prb",
      "include_colab_link": true
    },
    "kernelspec": {
      "name": "python3",
      "display_name": "Python 3"
    },
    "language_info": {
      "name": "python"
    }
  },
  "cells": [
    {
      "cell_type": "markdown",
      "metadata": {
        "id": "view-in-github",
        "colab_type": "text"
      },
      "source": [
        "<a href=\"https://colab.research.google.com/github/tirtthshah/text-to-image-pipeline/blob/main/Task_6.ipynb\" target=\"_parent\"><img src=\"https://colab.research.google.com/assets/colab-badge.svg\" alt=\"Open In Colab\"/></a>"
      ]
    },
    {
      "cell_type": "code",
      "execution_count": null,
      "metadata": {
        "id": "KIX8xmk7Ag3s"
      },
      "outputs": [],
      "source": [
        "!pip install matplotlib numpy torch torchvision\n",
        "\n",
        "import torch\n",
        "import torch.nn as nn\n",
        "import torch.nn.functional as F\n",
        "import torchvision.transforms as transforms\n",
        "import matplotlib.pyplot as plt\n",
        "import numpy as np\n",
        "from PIL import Image, ImageDraw"
      ]
    },
    {
      "cell_type": "code",
      "source": [
        "def generate_shape(label, size=28):\n",
        "    img = Image.new(\"L\", (size, size), 0)\n",
        "    draw = ImageDraw.Draw(img)\n",
        "    if label == 0:\n",
        "        draw.ellipse((6, 6, 22, 22), fill=255)\n",
        "    elif label == 1:\n",
        "        draw.rectangle((6, 6, 22, 22), fill=255)\n",
        "    return transforms.ToTensor()(img)\n",
        "\n",
        "def create_dataset(num_samples=1000):\n",
        "    images, labels = [], []\n",
        "    for _ in range(num_samples):\n",
        "        label = np.random.randint(0, 2)\n",
        "        img = generate_shape(label)\n",
        "        images.append(img)\n",
        "        labels.append(label)\n",
        "    return torch.stack(images), torch.tensor(labels)\n",
        "\n",
        "images, labels = create_dataset()"
      ],
      "metadata": {
        "id": "V7JHa8isDJtg"
      },
      "execution_count": null,
      "outputs": []
    },
    {
      "cell_type": "code",
      "source": [
        "class Generator(nn.Module):\n",
        "    def __init__(self, latent_dim, label_dim):\n",
        "        super().__init__()\n",
        "        self.model = nn.Sequential(\n",
        "            nn.Linear(latent_dim + label_dim, 128),\n",
        "            nn.ReLU(),\n",
        "            nn.Linear(128, 784),\n",
        "            nn.Tanh()\n",
        "        )\n",
        "\n",
        "    def forward(self, z, labels):\n",
        "        input = torch.cat((z, labels), dim=1)\n",
        "        out = self.model(input)\n",
        "        return out.view(-1, 1, 28, 28)\n",
        "\n",
        "class Discriminator(nn.Module):\n",
        "    def __init__(self, label_dim):\n",
        "        super().__init__()\n",
        "        self.model = nn.Sequential(\n",
        "            nn.Linear(784 + label_dim, 128),\n",
        "            nn.LeakyReLU(0.2),\n",
        "            nn.Linear(128, 1),\n",
        "            nn.Sigmoid()\n",
        "        )\n",
        "\n",
        "    def forward(self, img, labels):\n",
        "        input = torch.cat((img.view(img.size(0), -1), labels), dim=1)\n",
        "        return self.model(input)"
      ],
      "metadata": {
        "id": "7DobTHukDWUS"
      },
      "execution_count": null,
      "outputs": []
    },
    {
      "cell_type": "code",
      "source": [
        "latent_dim = 100\n",
        "label_dim = 2\n",
        "device = torch.device(\"cuda\" if torch.cuda.is_available() else \"cpu\")\n",
        "\n",
        "G = Generator(latent_dim, label_dim).to(device)\n",
        "D = Discriminator(label_dim).to(device)\n",
        "\n",
        "criterion = nn.BCELoss()\n",
        "optimizer_G = torch.optim.Adam(G.parameters(), lr=0.0002)\n",
        "optimizer_D = torch.optim.Adam(D.parameters(), lr=0.0002)"
      ],
      "metadata": {
        "id": "yPwWanxWDbP7"
      },
      "execution_count": null,
      "outputs": []
    },
    {
      "cell_type": "code",
      "source": [
        "epochs = 100\n",
        "batch_size = 64\n",
        "\n",
        "for epoch in range(epochs):\n",
        "    for i in range(0, len(images), batch_size):\n",
        "        real_imgs = images[i:i+batch_size].to(device)\n",
        "        real_labels = labels[i:i+batch_size]\n",
        "        real_onehot = F.one_hot(real_labels, num_classes=2).float().to(device)\n",
        "\n",
        "        z = torch.randn(real_imgs.size(0), latent_dim).to(device)\n",
        "        fake_labels = torch.randint(0, 2, (real_imgs.size(0),)).to(device)\n",
        "        fake_onehot = F.one_hot(fake_labels, num_classes=2).float()\n",
        "        fake_imgs = G(z, fake_onehot)\n",
        "\n",
        "        real_validity = D(real_imgs, real_onehot)\n",
        "        fake_validity = D(fake_imgs.detach(), fake_onehot)\n",
        "\n",
        "        d_loss = criterion(real_validity, torch.ones_like(real_validity)) + \\\n",
        "                 criterion(fake_validity, torch.zeros_like(fake_validity))\n",
        "\n",
        "        optimizer_D.zero_grad()\n",
        "        d_loss.backward()\n",
        "        optimizer_D.step()\n",
        "\n",
        "        gen_validity = D(fake_imgs, fake_onehot)\n",
        "        g_loss = criterion(gen_validity, torch.ones_like(gen_validity))\n",
        "\n",
        "        optimizer_G.zero_grad()\n",
        "        g_loss.backward()\n",
        "        optimizer_G.step()\n",
        "\n",
        "    with torch.no_grad():\n",
        "        real_pred = (real_validity > 0.5).float()\n",
        "        fake_pred = (fake_validity < 0.5).float()\n",
        "        real_acc = real_pred.mean().item()\n",
        "        fake_acc = fake_pred.mean().item()\n",
        "        d_acc = (real_acc + fake_acc) / 2\n",
        "\n",
        "    print(f\"Epoch {epoch+1}/{epochs} | D Loss: {d_loss.item():.4f} | G Loss: {g_loss.item():.4f} | D Acc: {d_acc*100:.2f}%\")"
      ],
      "metadata": {
        "id": "MS8Og4KzDdLv"
      },
      "execution_count": null,
      "outputs": []
    },
    {
      "cell_type": "code",
      "source": [
        "def generate_and_plot(label):\n",
        "    z = torch.randn(1, latent_dim).to(device)\n",
        "    label_onehot = F.one_hot(torch.tensor([label]), num_classes=2).float().to(device)\n",
        "    img = G(z, label_onehot).detach().cpu().squeeze()\n",
        "    plt.imshow(img, cmap=\"gray\")\n",
        "    plt.title(\"Circle\" if label == 0 else \"Square\")\n",
        "    plt.axis(\"off\")\n",
        "    plt.show()\n",
        "\n",
        "generate_and_plot(0)\n",
        "generate_and_plot(1)"
      ],
      "metadata": {
        "id": "xz5witRoFdRS"
      },
      "execution_count": null,
      "outputs": []
    },
    {
      "cell_type": "markdown",
      "source": [
        
      ],
      "metadata": {
        "id": "FEq7OD2NG5Wo"
      }
    },
    {
      "cell_type": "code",
      "source": [
        "import torch, torch.nn as nn, torch.nn.functional as F\n",
        "import torchvision.transforms as transforms\n",
        "import matplotlib.pyplot as plt\n",
        "import numpy as np\n",
        "from PIL import Image, ImageDraw\n",
        "from torchvision.utils import save_image\n",
        "\n",
        "device = torch.device(\"cuda\" if torch.cuda.is_available() else \"cpu\")\n",
        "latent_dim = 100\n",
        "label_dim = 2\n",
        "epochs = 100\n",
        "batch_size = 64\n",
        "\n",
        "def generate_shape(label, size=128):\n",
        "    img = Image.new(\"L\", (size, size), 0)\n",
        "    draw = ImageDraw.Draw(img)\n",
        "    if label == 0: draw.ellipse((32, 32, 96, 96), fill=255)\n",
        "    elif label == 1: draw.rectangle((32, 32, 96, 96), fill=255)\n",
        "    return transforms.ToTensor()(img) * 2 - 1\n",
        "\n",
        "def create_dataset(n=1000):\n",
        "    imgs, lbls = [], []\n",
        "    for _ in range(n):\n",
        "        label = np.random.randint(0, 2)\n",
        "        imgs.append(generate_shape(label))\n",
        "        lbls.append(label)\n",
        "    return torch.stack(imgs), torch.tensor(lbls)\n",
        "\n",
        "images, labels = create_dataset()\n",
        "\n",
        "class Generator(nn.Module):\n",
        "    def __init__(self):\n",
        "        super().__init__()\n",
        "        self.model = nn.Sequential(\n",
        "            nn.Linear(latent_dim + label_dim, 1024),\n",
        "            nn.ReLU(),\n",
        "            nn.Linear(1024, 2048),\n",
        "            nn.ReLU(),\n",
        "            nn.Linear(2048, 16384),\n",
        "            nn.Tanh()\n",
        "        )\n",
        "    def forward(self, z, y):\n",
        "        input = torch.cat((z, y), dim=1)\n",
        "        return self.model(input).view(-1, 1, 128, 128)\n",
        "\n",
        "class Discriminator(nn.Module):\n",
        "    def __init__(self):\n",
        "        super().__init__()\n",
        "        self.model = nn.Sequential(\n",
        "            nn.Linear(16384 + label_dim, 1024),\n",
        "            nn.LeakyReLU(0.2),\n",
        "            nn.Linear(1024, 1)\n",
        "        )\n",
        "    def forward(self, x, y):\n",
        "        input = torch.cat((x.view(x.size(0), -1), y), dim=1)\n",
        "        return self.model(input)\n",
        "\n",
        "G = Generator().to(device)\n",
        "D = Discriminator().to(device)\n",
        "opt_G = torch.optim.Adam(G.parameters(), lr=0.0002)\n",
        "opt_D = torch.optim.Adam(D.parameters(), lr=0.0002)\n",
        "\n",
        "for epoch in range(epochs):\n",
        "    for i in range(0, len(images), batch_size):\n",
        "        real_imgs = images[i:i+batch_size].to(device)\n",
        "        real_lbls = labels[i:i+batch_size]\n",
        "        real_onehot = F.one_hot(real_lbls, num_classes=2).float().to(device)\n",
        "\n",
        "        z = torch.randn(real_imgs.size(0), latent_dim).to(device)\n",
        "        fake_lbls = torch.randint(0, 2, (real_imgs.size(0),)).to(device)\n",
        "        fake_onehot = F.one_hot(fake_lbls, num_classes=2).float().to(device)\n",
        "        fake_imgs = G(z, fake_onehot)\n",
        "\n",
        "        real_validity = D(real_imgs, real_onehot)\n",
        "        fake_validity = D(fake_imgs.detach(), fake_onehot)\n",
        "        d_loss = torch.mean(F.relu(1. - real_validity)) + torch.mean(F.relu(1. + fake_validity))\n",
        "\n",
        "        opt_D.zero_grad()\n",
        "        d_loss.backward()\n",
        "        opt_D.step()\n",
        "\n",
        "        gen_validity = D(fake_imgs, fake_onehot)\n",
        "        g_loss = -torch.mean(gen_validity)\n",
        "\n",
        "        opt_G.zero_grad()\n",
        "        g_loss.backward()\n",
        "        opt_G.step()\n",
        "\n",
        "    with torch.no_grad():\n",
        "        real_acc = (real_validity > 0).float().mean().item()\n",
        "        fake_acc = (fake_validity < 0).float().mean().item()\n",
        "        d_acc = (real_acc + fake_acc) / 2\n",
        "\n",
        "    print(f\"Epoch {epoch+1}/{epochs} | D Loss: {d_loss.item():.4f} | G Loss: {g_loss.item():.4f} | D Acc: {d_acc*100:.2f}%\")\n",
        "\n",
        "    if (epoch + 1) % 10 == 0:\n",
        "        titles = [\"Circle\", \"Square\"]\n",
        "        for label in range(2):\n",
        "            z = torch.randn(1, latent_dim).to(device)\n",
        "            onehot = F.one_hot(torch.tensor([label]), num_classes=2).float().to(device)\n",
        "            img = G(z, onehot).detach().cpu().squeeze()\n",
        "            plt.figure(figsize=(5,5))\n",
        "            plt.imshow(img, cmap=\"gray\")\n",
        "            plt.title(titles[label])\n",
        "            plt.axis(\"off\")\n",
        "            plt.show()\n",
        "            save_image(img, f\"shape_{titles[label].lower()}_epoch{epoch+1}.png\", normalize=True)"
      ],
      "metadata": {
        "id": "ouNYej2jIHaq"
      },
      "execution_count": null,
      "outputs": []
    },
    {
      "cell_type": "code",
      "source": [
        "from ipywidgets import interact\n",
        "import ipywidgets as widgets\n",
        "\n",
        "def generate_and_plot(label_name):\n",
        "    shape_map = {\"circle\": 0, \"square\": 1}\n",
        "    label = shape_map[label_name]\n",
        "    z = torch.randn(1, latent_dim).to(device)\n",
        "    label_onehot = F.one_hot(torch.tensor([label]), num_classes=2).float().to(device)\n",
        "    img = G(z, label_onehot).detach().cpu().squeeze()\n",
        "\n",
        "    plt.imshow(img, cmap=\"gray\")\n",
        "    plt.title(label_name.capitalize())\n",
        "    plt.axis(\"off\")\n",
        "    plt.show()\n",
        "\n",
        "interact(generate_and_plot, label_name=widgets.Dropdown(options=[\"circle\", \"square\"], description=\"Shape:\"))"
      ],
      "metadata": {
        "id": "ftbyqRAQS9_l"
      },
      "execution_count": null,
      "outputs": []
    }
  ]
}
