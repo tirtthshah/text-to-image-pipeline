{
  "nbformat": 4,
  "nbformat_minor": 0,
  "metadata": {
    "colab": {
      "provenance": [],
      "authorship_tag": "ABX9TyPDejeUV1oINC7phQmJgHkO",
      "include_colab_link": true
    },
    "kernelspec": {
      "name": "python3",
      "display_name": "Python 3"
    },
    "language_info": {
      "name": "python"
    }
  },
  "cells": [
    {
      "cell_type": "markdown",
      "metadata": {
        "id": "view-in-github",
        "colab_type": "text"
      },
      "source": [
        "<a href=\"https://colab.research.google.com/github/tirtthshah/text-to-image-pipeline/blob/main/Task_4.ipynb\" target=\"_parent\"><img src=\"https://colab.research.google.com/assets/colab-badge.svg\" alt=\"Open In Colab\"/></a>"
      ]
    },
    {
      "cell_type": "code",
      "source": [
        "!pip install datasets"
      ],
      "metadata": {
        "id": "-dtSOWSCG8VB"
      },
      "execution_count": null,
      "outputs": []
    },
    {
      "cell_type": "code",
      "source": [
        "from datasets import load_dataset\n",
        "\n",
        "dataset = load_dataset(\"jxie/flickr8k\", split=\"train\")\n",
        "print(dataset[0])"
      ],
      "metadata": {
        "id": "qQfWaI70IKxc"
      },
      "execution_count": null,
      "outputs": []
    },
    {
      "cell_type": "code",
      "source": [
        "from datasets import load_dataset\n",
        "\n",
        "dataset = load_dataset(\"jxie/flickr8k\", split=\"train\")\n",
        "images = [sample[\"image\"] for sample in dataset.select(range(200))]"
      ],
      "metadata": {
        "id": "6Gzu3YuOJj-D"
      },
      "execution_count": null,
      "outputs": []
    },
    {
      "cell_type": "code",
      "source": [
        "import numpy as np\n",
        "from PIL import Image\n",
        "import cv2\n",
        "\n",
        "def extract_hsv_histogram(img, bins=(8, 8, 8)):\n",
        "    hsv = img.convert(\"HSV\")\n",
        "    hist = np.histogramdd(np.array(hsv).reshape(-1, 3), bins=bins, range=[(0,256)]*3)[0]\n",
        "    return hist.flatten() / hist.sum()\n",
        "\n",
        "color_features = np.array([extract_hsv_histogram(img.resize((64, 64))) for img in images])\n",
        "\n",
        "\n",
        "def extract_edge_features(img):\n",
        "    gray = np.array(img.convert(\"L\").resize((64, 64)))\n",
        "    edges = cv2.Canny(gray, 100, 200)\n",
        "    return edges.flatten() / 255.0\n",
        "\n",
        "shape_features = np.array([extract_edge_features(img) for img in images])"
      ],
      "metadata": {
        "id": "QyD6sjCwJpGJ"
      },
      "execution_count": null,
      "outputs": []
    },
    {
      "cell_type": "code",
      "source": [
        "from sklearn.manifold import Isomap\n",
        "\n",
        "shape_iso = Isomap(n_neighbors=10, n_components=2).fit_transform(shape_features)\n",
        "color_iso = Isomap(n_neighbors=10, n_components=2).fit_transform(color_features)"
      ],
      "metadata": {
        "id": "j0xzy5McJwDG"
      },
      "execution_count": null,
      "outputs": []
    },
    {
      "cell_type": "code",
      "source": [
        "import matplotlib.pyplot as plt\n",
        "from matplotlib.offsetbox import OffsetImage, AnnotationBbox\n",
        "\n",
        "def plot_embedding(embedding, images, title):\n",
        "    fig, ax = plt.subplots(figsize=(10, 10))\n",
        "    ax.set_title(title)\n",
        "    for xy, img in zip(embedding, images):\n",
        "        im = OffsetImage(img.resize((32, 32)), zoom=1)\n",
        "        ab = AnnotationBbox(im, xy, frameon=True, bboxprops=dict(edgecolor='black', linewidth=1))\n",
        "        ax.add_artist(ab)\n",
        "    plt.axis(\"off\")\n",
        "    plt.show()"
      ],
      "metadata": {
        "id": "itqu7iJTKAWm"
      },
      "execution_count": null,
      "outputs": []
    },
    {
      "cell_type": "code",
      "source": [
        "import matplotlib.pyplot as plt\n",
        "from matplotlib.offsetbox import OffsetImage, AnnotationBbox\n",
        "from sklearn.neighbors import NearestNeighbors\n",
        "\n",
        "def plot_embedding(embedding, images, title):\n",
        "    fig, ax = plt.subplots(figsize=(12, 12))\n",
        "    ax.set_title(title, fontsize=20)\n",
        "\n",
        "    nbrs = NearestNeighbors(n_neighbors=5).fit(embedding)\n",
        "    connections = nbrs.kneighbors_graph(embedding).toarray()\n",
        "    for i in range(len(embedding)):\n",
        "        for j in range(len(embedding)):\n",
        "            if connections[i][j]:\n",
        "                ax.plot([embedding[i, 0], embedding[j, 0]],\n",
        "                        [embedding[i, 1], embedding[j, 1]],\n",
        "                        color='green', linewidth=1, alpha=0.3)\n",
        "\n",
        "    for xy, img in zip(embedding, images):\n",
        "        im = OffsetImage(img.resize((32, 32)), zoom=0.6)\n",
        "        im.set_alpha(0.9)\n",
        "        ab = AnnotationBbox(im, xy, frameon=True,\n",
        "                            bboxprops=dict(edgecolor='black', linewidth=0.8))\n",
        "        ax.add_artist(ab)\n",
        "\n",
        "    ax.set_xticks([])\n",
        "    ax.set_yticks([])\n",
        "    plt.grid(False)\n",
        "    plt.tight_layout()\n",
        "    plt.show()"
      ],
      "metadata": {
        "id": "IIBVYdnLW-3E"
      },
      "execution_count": null,
      "outputs": []
    },
    {
      "cell_type": "code",
      "source": [
        "def plot_embedding(embedding, images, title):\n",
        "    fig, ax = plt.subplots(figsize=(12, 12))\n",
        "    ax.set_title(title, fontsize=20)\n",
        "\n",
        "    from sklearn.neighbors import NearestNeighbors\n",
        "    nbrs = NearestNeighbors(n_neighbors=5).fit(embedding)\n",
        "    connections = nbrs.kneighbors_graph(embedding).toarray()\n",
        "\n",
        "    for i in range(len(embedding)):\n",
        "        for j in range(len(embedding)):\n",
        "            if connections[i][j]:\n",
        "                ax.plot([embedding[i, 0], embedding[j, 0]],\n",
        "                        [embedding[i, 1], embedding[j, 1]],\n",
        "                        color='green', linewidth=1, alpha=0.3)\n",
        "\n",
        "    for xy, img, sample in zip(embedding, images, dataset.select(range(len(images)))):\n",
        "        caption = sample[\"caption_0\"][:30] + \"...\"\n",
        "        im = OffsetImage(img.resize((32, 32)), zoom=0.6)\n",
        "        im.set_alpha(0.9)\n",
        "        ab = AnnotationBbox(im, xy, frameon=True,\n",
        "                            bboxprops=dict(edgecolor='black', linewidth=0.8))\n",
        "        ax.add_artist(ab)\n",
        "        ax.text(xy[0], xy[1] - 0.05, caption, fontsize=6, ha='center')\n",
        "\n",
        "    ax.set_xticks([])\n",
        "    ax.set_yticks([])\n",
        "    plt.grid(False)\n",
        "    plt.tight_layout()\n",
        "    plt.show()"
      ],
      "metadata": {
        "id": "kRvH24tnZoQN"
      },
      "execution_count": null,
      "outputs": []
    },
    {
      "cell_type": "code",
      "source": [
        "import matplotlib.pyplot as plt\n",
        "import random\n",
        "\n",
        "samples = dataset.select(range(9))\n",
        "fig, axes = plt.subplots(3, 3, figsize=(10, 10))\n",
        "\n",
        "for i, ax in enumerate(axes.flat):\n",
        "    img = samples[i][\"image\"]\n",
        "    caption = samples[i][\"caption_0\"]\n",
        "    ax.imshow(img)\n",
        "    ax.set_title(caption[:40] + \"...\", fontsize=8)\n",
        "    ax.axis(\"off\")\n",
        "    indices = random.sample(range(len(dataset)), 9)\n",
        "    samples = dataset.select(indices)\n",
        "\n",
        "\n",
        "plt.tight_layout()\n",
        "plt.show()"
      ],
      "metadata": {
        "id": "5fn4-yJRaeNw"
      },
      "execution_count": null,
      "outputs": []
    },
    {
      "cell_type": "code",
      "source": [
        "plot_embedding(shape_iso, images, \"Shape Isomap\")\n",
        "plot_embedding(color_iso, images, \"Color Isomap\")"
      ],
      "metadata": {
        "id": "aNZ1pAJTbCP6"
      },
      "execution_count": null,
      "outputs": []
    }
  ]
}