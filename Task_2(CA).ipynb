{
  "nbformat": 4,
  "nbformat_minor": 0,
  "metadata": {
    "colab": {
      "provenance": [],
      "gpuType": "T4",
      "authorship_tag": "ABX9TyNKjV6o60b/2dW7A19CdDTn",
      "include_colab_link": true
    },
    "kernelspec": {
      "name": "python3",
      "display_name": "Python 3"
    },
    "language_info": {
      "name": "python"
    },
    "accelerator": "GPU"
  },
  "cells": [
    {
      "cell_type": "markdown",
      "metadata": {
        "id": "view-in-github",
        "colab_type": "text"
      },
      "source": [
        "<a href=\"https://colab.research.google.com/github/tirtthshah/text-to-image-pipeline/blob/main/Task_2(CA).ipynb\" target=\"_parent\"><img src=\"https://colab.research.google.com/assets/colab-badge.svg\" alt=\"Open In Colab\"/></a>"
      ]
    },
    {
      "cell_type": "markdown",
      "source": [
        "Cross Attention"
      ],
      "metadata": {
        "id": "gSICUciroQ-s"
      }
    },
    {
      "cell_type": "code",
      "source": [
        "!pip install ftfy regex tqdm\n",
        "!pip install git+https://github.com/openai/CLIP.git\n",
        "\n",
        "import torch\n",
        "import torchvision\n",
        "import torch.nn as nn\n",
        "import torchvision.transforms as transforms\n",
        "import matplotlib.pyplot as plt"
      ],
      "metadata": {
        "id": "S2L1reBGQT91"
      },
      "execution_count": null,
      "outputs": []
    },
    {
      "cell_type": "code",
      "source": [
        "z_dim = 100\n",
        "lr = 2e-4\n",
        "batch_size = 8\n",
        "epochs = 2\n",
        "device = \"cuda\" if torch.cuda.is_available() else \"cpu\"\n",
        "text_features_dim = 512\n",
        "\n",
        "transform = transforms.Compose([\n",
        "    transforms.ToTensor(),\n",
        "    transforms.Normalize([0.5], [0.5])\n",
        "])\n",
        "dataset = torchvision.datasets.MNIST(root=\"./data\", train=True, transform=transform, download=True)\n",
        "loader = torch.utils.data.DataLoader(dataset, batch_size=batch_size, shuffle=True)\n",
        "\n",
        "gen = Generator(z_dim=z_dim, text_features_dim=text_features_dim).to(device)\n",
        "disc = Discriminator().to(device)\n",
        "\n",
        "opt_gen = torch.optim.Adam(gen.parameters(), lr=lr, betas=(0.5, 0.999))\n",
        "opt_disc = torch.optim.Adam(disc.parameters(), lr=lr, betas=(0.5, 0.999))\n",
        "criterion = nn.BCELoss()"
      ],
      "metadata": {
        "id": "4E6BLWKsn9_w"
      },
      "execution_count": null,
      "outputs": []
    },
    {
      "cell_type": "code",
      "source": [
        "for epoch in range(epochs):\n",
        "    for batch_idx, (real, _) in enumerate(loader):\n",
        "        if batch_idx >= 10: break\n",
        "\n",
        "        print(f\"Epoch [{epoch+1}/{epochs}] Batch [{batch_idx+1}/10]\")\n",
        "\n",
        "        real = real.to(device)\n",
        "        noise = torch.randn(batch_size, z_dim, 1, 1).to(device)\n",
        "        dummy_text_features = torch.randn(batch_size, text_features_dim, 1, 1).to(device)\n",
        "        combined_input = torch.cat((noise, dummy_text_features), dim=1)\n",
        "\n",
        "        fake = gen(combined_input, dummy_text_features.squeeze())\n",
        "\n",
        "        disc_real = disc(real).view(-1)\n",
        "        loss_real = criterion(disc_real, torch.ones_like(disc_real))\n",
        "        disc_fake = disc(fake.detach()).view(-1)\n",
        "        loss_fake = criterion(disc_fake, torch.zeros_like(disc_fake))\n",
        "        loss_disc = (loss_real + loss_fake) / 2\n",
        "        opt_disc.zero_grad()\n",
        "        loss_disc.backward()\n",
        "        opt_disc.step()\n",
        "\n",
        "        output = disc(fake).view(-1)\n",
        "        loss_gen = criterion(output, torch.ones_like(output))\n",
        "        opt_gen.zero_grad()\n",
        "        loss_gen.backward()\n",
        "        opt_gen.step()\n",
        "\n",
        "    print(f\"Epoch [{epoch+1}/{epochs}] Loss D: {loss_disc:.4f}, Loss G: {loss_gen:.4f}\")\n",
        "\n",
        "gen.eval()\n",
        "with torch.no_grad():\n",
        "    noise = torch.randn(64, z_dim, 1, 1).to(device)\n",
        "    dummy_text_features = torch.randn(64, text_features_dim, 1, 1).to(device)\n",
        "    combined_input = torch.cat((noise, dummy_text_features), dim=1)\n",
        "\n",
        "    fake_images = gen(combined_input, dummy_text_features.squeeze()).cpu()\n",
        "    grid = torchvision.utils.make_grid(fake_images, nrow=4, normalize=True)\n",
        "    plt.figure(figsize=(5, 5))\n",
        "    plt.axis(\"off\")\n",
        "    plt.imshow(grid.permute(1, 2, 0))\n",
        "    plt.show()"
      ],
      "metadata": {
        "id": "Mh_UopJrnoIq"
      },
      "execution_count": null,
      "outputs": []
    }
  ]
}